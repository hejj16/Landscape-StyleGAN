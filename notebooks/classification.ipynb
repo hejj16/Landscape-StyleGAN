{
 "cells": [
  {
   "cell_type": "code",
   "execution_count": 1,
   "metadata": {},
   "outputs": [],
   "source": [
    "import pickle\n",
    "import numpy as np\n",
    "import torch\n",
    "from torch import nn\n",
    "from sklearn.model_selection import train_test_split\n",
    "import matplotlib.pyplot as plt"
   ]
  },
  {
   "cell_type": "code",
   "execution_count": 16,
   "metadata": {},
   "outputs": [],
   "source": [
    "with open('train_x', 'rb') as file:\n",
    "    s = pickle.load(file)\n",
    "z = pickle.loads(s)\n",
    "with open('train_label', 'rb') as file:\n",
    "    s = pickle.load(file)\n",
    "label = pickle.loads(s)"
   ]
  },
  {
   "cell_type": "code",
   "execution_count": 18,
   "metadata": {},
   "outputs": [],
   "source": [
    "# pictures are labeled manually, 0:night with Aurora, 1:night, 2:dawn/dust, 3:daytime.\n",
    "# build 3 classfiers, 1. classify pictures into day/night, 2. classify night pictures by aurora or not, and 3. classify into dawn/dust or daytime\n",
    "\n",
    "# 1.\n",
    "label[label == \"0\"] = \"0\"\n",
    "label[label == \"1\"] = \"0\"\n",
    "label[label == \"2\"] = \"1\"\n",
    "label[label == \"3\"] = \"1\"\n",
    "\n",
    "#  2.\n",
    "# label = label[np.logical_or(label == \"0\", label == \"1\")] \n",
    "\n",
    "# 3.\n",
    "# label = label[np.logical_or(label == \"2\", label == \"3\")] \n",
    "# label[label == \"2\"] = \"0\"\n",
    "# label[label == \"3\"] = \"1\""
   ]
  },
  {
   "cell_type": "code",
   "execution_count": 298,
   "metadata": {},
   "outputs": [],
   "source": [
    "train_x, test_x, train_label, test_label = train_test_split(z, label[:, 1].reshape(-1, 1), test_size=0.1)"
   ]
  },
  {
   "cell_type": "code",
   "execution_count": 299,
   "metadata": {},
   "outputs": [],
   "source": []
  },
  {
   "cell_type": "code",
   "execution_count": 300,
   "metadata": {},
   "outputs": [],
   "source": [
    "class MLP(nn.Module):\n",
    "    def __init__(self):\n",
    "        super(MLP,self).__init__()\n",
    "        self.lr1=nn.Linear(512,50) \n",
    "        self.act=nn.ReLU()\n",
    "        self.lr2=nn.Linear(50,1) \n",
    "        self.sm=nn.Sigmoid()\n",
    "        \n",
    "    def forward(self, x):\n",
    "        x=self.lr1(x)\n",
    "        x=self.act(x)\n",
    "        x=self.lr2(x)\n",
    "        x=self.sm(x)\n",
    "        return x"
   ]
  },
  {
   "cell_type": "code",
   "execution_count": 301,
   "metadata": {},
   "outputs": [],
   "source": [
    "model = MLP()\n",
    "criterion=nn.BCELoss()   \n",
    "optimizer=torch.optim.Adam(model.parameters(),lr=5e-4, weight_decay=0.25)"
   ]
  },
  {
   "cell_type": "code",
   "execution_count": 302,
   "metadata": {},
   "outputs": [],
   "source": [
    "losses = []"
   ]
  },
  {
   "cell_type": "code",
   "execution_count": 303,
   "metadata": {},
   "outputs": [],
   "source": [
    "for epoch in range(3000):\n",
    "    pred = model(torch.tensor(train_x).float()[train_label[:, 0] != \"4\"])\n",
    "    loss = criterion(pred, torch.tensor(train_label.astype(np.float)).float()[train_label[:, 0] != \"4\"])\n",
    "    loss.backward()\n",
    "    optimizer.step()\n",
    "    losses.append(loss.item())"
   ]
  },
  {
   "cell_type": "code",
   "execution_count": 304,
   "metadata": {},
   "outputs": [],
   "source": [
    "test_p = model(torch.tensor(test_x).float()[test_label[:, 0] != \"4\"])\n",
    "test_p = np.where(test_p > 0.5, 1, 0).reshape(-1)"
   ]
  },
  {
   "cell_type": "code",
   "execution_count": 305,
   "metadata": {},
   "outputs": [],
   "source": [
    "test_t = torch.tensor(test_label.astype(np.float)).float()[test_label[:, 0] != \"4\"].reshape(-1).numpy()"
   ]
  },
  {
   "cell_type": "code",
   "execution_count": 306,
   "metadata": {},
   "outputs": [
    {
     "data": {
      "text/plain": [
       "0.9523809523809523"
      ]
     },
     "execution_count": 306,
     "metadata": {},
     "output_type": "execute_result"
    }
   ],
   "source": [
    "np.mean(test_t == test_p)"
   ]
  },
  {
   "cell_type": "code",
   "execution_count": 307,
   "metadata": {},
   "outputs": [
    {
     "data": {
      "text/plain": [
       "[<matplotlib.lines.Line2D at 0x216349a5d30>]"
      ]
     },
     "execution_count": 307,
     "metadata": {},
     "output_type": "execute_result"
    },
    {
     "data": {
      "image/png": "[encoded data removed]",
      "text/plain": [
       "<Figure size 432x288 with 1 Axes>"
      ]
     },
     "metadata": {
      "needs_background": "light"
     },
     "output_type": "display_data"
    }
   ],
   "source": [
    "plt.plot(losses)\n",
    "plt.show()"
   ]
  },
  {
   "cell_type": "code",
   "execution_count": 308,
   "metadata": {},
   "outputs": [],
   "source": [
    "torch.save(model.state_dict(), \"mlp_for_ALL.pkl\") # mlp_for_Night.pkl / mlp_for_Day.pkl"
   ]
  },
  {
   "cell_type": "code",
   "execution_count": null,
   "metadata": {},
   "outputs": [],
   "source": []
  }
 ],
 "metadata": {
  "kernelspec": {
   "display_name": "Python 3",
   "language": "python",
   "name": "python3"
  },
  "language_info": {
   "codemirror_mode": {
    "name": "ipython",
    "version": 3
   },
   "file_extension": ".py",
   "mimetype": "text/x-python",
   "name": "python",
   "nbconvert_exporter": "python",
   "pygments_lexer": "ipython3",
   "version": "3.8.3"
  }
 },
 "nbformat": 4,
 "nbformat_minor": 4
}
